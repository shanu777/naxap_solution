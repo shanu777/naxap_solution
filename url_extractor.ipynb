{
 "cells": [
  {
   "cell_type": "code",
   "execution_count": 1,
   "metadata": {},
   "outputs": [],
   "source": [
    "def url_extractor(file_path):\n",
    "    url_list=[]\n",
    "    text=open(file_path)\n",
    "    Text=text.read()\n",
    "    import re\n",
    "    pattern=pattern=\"[localhost|http|https|ftp|file]+://[\\w\\S(\\.|:|/)]+\"\n",
    "    url_list.append(re.findall(pattern,Text))\n",
    "    occurances=len(url_list[0])\n",
    "    first_occurance=url_list[0][0]\n",
    "    return print(\"Total number of URL's found: \"+str(occurances)+\".\", \"First occurance: \"+ first_occurance)\n",
    "    text.close()"
   ]
  },
  {
   "cell_type": "code",
   "execution_count": 2,
   "metadata": {},
   "outputs": [
    {
     "name": "stdout",
     "output_type": "stream",
     "text": [
      "Total number of URL's found: 6. First occurance: https://docs.google.com/forms/d/e/1FAIpQLSczM9KTlZLjLAN7mWLuOnXdlF4dk3ZzBZrDuzByEDkGqX64Rw/viewform\n"
     ]
    }
   ],
   "source": [
    "url_extractor('C:/Users/utkarsh/Desktop/New Text Document.txt')"
   ]
  },
  {
   "cell_type": "code",
   "execution_count": null,
   "metadata": {},
   "outputs": [],
   "source": []
  }
 ],
 "metadata": {
  "kernelspec": {
   "display_name": "Python 3",
   "language": "python",
   "name": "python3"
  },
  "language_info": {
   "codemirror_mode": {
    "name": "ipython",
    "version": 3
   },
   "file_extension": ".py",
   "mimetype": "text/x-python",
   "name": "python",
   "nbconvert_exporter": "python",
   "pygments_lexer": "ipython3",
   "version": "3.6.10"
  }
 },
 "nbformat": 4,
 "nbformat_minor": 4
}
